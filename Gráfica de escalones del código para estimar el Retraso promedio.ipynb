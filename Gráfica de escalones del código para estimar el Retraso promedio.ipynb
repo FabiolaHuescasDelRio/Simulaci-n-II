from random import expovariate
from statistics import mean 
from math import inf as Infinity
from random import expovariate
from matplotlib.pyplot import *
from random import seed
from random import expovariate
from statistics import mean 
from math import inf as Infinity
# Parametros

lamda = 1.3                          
mu = 2.0                                  


Num_Pkts = 100000                   
#T = 100000
count = 0                          
t = 0
N = 0                               

tll = expovariate(lamda)            
ts = Infinity                       

# Variables de salida
tll_Data = []                       
ts_Data = []                        
r_Data = []                        

while count < Num_Pkts:
#while t < T:
    if tll < ts:                          
        t = tll
        tll_Data.append(t)
        N = N + 1.0
        tll = t + expovariate(lamda) 
        if N == 1:
            ts = t + expovariate(mu)
    else:                                         
        t = ts 
        ts_Data.append(t)
        N = N - 1.0
        count = count + 1                        
        if N > 0:
            ts = t + expovariate(mu)
        else:
            ts = Infinity
            
# Estimación del retraso promedio:

for i in range(Num_Pkts):
#for i in range(T):
    d = ts_Data[i] - tll_Data[i]
    r_Data.append(d)

fig = figure(1, figsize=(16, 8))
plot(r_Data, Linewidth=1.2, color='black')
xlabel('Tiempo', size=16)
ylabel('Clientes', size=16)
show()
print( "Retraso promedio = ", round( mean(r_Data), 4) )
