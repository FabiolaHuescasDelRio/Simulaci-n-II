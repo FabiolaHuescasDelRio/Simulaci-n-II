{
 "cells": [
  {
   "cell_type": "markdown",
   "metadata": {},
   "source": [
    "# Holi a todos Ejercicio 1: \n",
    "##    a) Usar la función random( ) para simular 1 volado.\n"
   ]
  },
  {
   "cell_type": "code",
   "execution_count": null,
   "metadata": {},
   "outputs": [],
   "source": [
    "from math import log\n",
    "from random import random\n", 
    "l_l=1.8 #Parametro del proceso de poisson\n",
    "l_s=1.7 #Parametro de la distribución exponencial\n",
    "t=0 #Tiempo actual\n",
    "T=10 #Tiempo de simulación\n",
    "tl=-(1/l_l)*log(random()) #Tiempo en el que va a ocurrir la proxima llegada\n",
    "l=0 #Número de personas en el sistema\n",
    "inf=1000000000 #Infinito\n",
    "ts=inf\n",
    "while min(tl,ts)<T:\n",
    "t=min(tl,ts)\n",
    "if t==tl:\n",
    "l=l+1\n",
    "print\"Llegada en %10.2f\"%tl,\"seg\",\"    #Clientes en el sistema\",l)\n",
    "tl=tl-(1/l_l)*log(random())\n",
    "if l==1:\n",
    "ts=t-(1/l_s)*log(random())\n", 
    "else:\n",
    "l=l-1\n",
    "print(\"                   Salida en %10.2f\"%ts,\"seg\",\"    #Clientes en el sistema\",l)\n",
    "if l==0:\n",
    "ts=inf\n",
    "else:\n",
    "ts=t-(1/l_s)*log(random())\n"
   ]
  },
  {
   "cell_type": "markdown",
   "metadata": {},
   "source": [
    "##    b) Usar la función random( ) para simular 1000 volados.\n"
   ]
  },
  {
   "cell_type": "code",
   "execution_count": null,
   "metadata": {},
   "outputs": [],
   "source": [
    "import random",
    "x = random.random() \n",
    "b = str(input(\"Escoge, ¿aguila o sol? \"))\n",
    "print(\"\")\n",
    "count = 0 \n",
    "sol = 0 \n",
    "aguila = 0 \n",
    "while count < 1000:\n",
    "  y = random.random()\n",
    "  if y < 0.5:\n",
    "    sol = sol+1 \n",
    "  else:\n",
    "    aguila = aguila+1 \n",
    "  count = count+1 \n",
    "if sol < aguila:\n",
    "  if b = = 'aguila':\n",
    "    print (\"Aguila, ¡Ganaste!\")\n",
    "  else:\n",
    "    print (\"Aguila, ¡Perdiste! xD\")\n",
    "else:\n",
    "  if b = = 'sol':\n",
    "    print (\"Sol, ¡Ganaste!\")\n",
    "  else:\n",
    "    print (\"Sol, ¡Perdiste! xD\")\n"
   ]
  },
  {
   "cell_type": "markdown",
   "metadata": {},
   "source": [
    "##    c) Determinar de b) la probabilidad de que ocurra \"sol\" en un volado.\n"
   ]
  },
  {
   "cell_type": "code",
   "execution_count": null,
   "metadata": {},
   "outputs": [],
   "source": [
    "import random",
    "x = random.random() \n",
    "b = str(input(\"Escoge, ¿aguila o sol? \"))\n",
    "print(\"\")\n",
    "count = 0 \n",
    "sol = 0 \n",
    "aguila = 0 \n",
    "while count < 1000:\n",
    "  y = random.random()\n",
    "  if y < 0.5:\n",
    "    sol = sol+1 \n",
    "  else:\n",
    "    aguila = aguila+1 \n",
    "  count = count+1 \n",
    "PA = aguila/count \n",
    "PS = sol/count \n",
    "print(\"\")\n",
    "print(\"La probabilidad de obtener aguila era de: \",PA)\n",
    "print(\"La probabilidad de obtener sol era de: \",PS)\n",
    "print(\"\")\n"
   ]
  }
 ],
 "metadata": {
  "kernelspec": {
   "display_name": "Python 3",
   "language": "python",
   "name": "python3"
  },
  "language_info": {
   "codemirror_mode": {
    "name": "ipython",
    "version": 3
   },
   "file_extension": ".py",
   "mimetype": "text/x-python",
   "name": "python",
   "nbconvert_exporter": "python",
   "pygments_lexer": "ipython3",
   "version": "3.7.3"
  }
 },
 "nbformat": 4,
 "nbformat_minor": 2
}
